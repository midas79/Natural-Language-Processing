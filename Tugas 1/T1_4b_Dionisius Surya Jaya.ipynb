{
  "nbformat": 4,
  "nbformat_minor": 0,
  "metadata": {
    "colab": {
      "provenance": []
    },
    "kernelspec": {
      "name": "python3",
      "display_name": "Python 3"
    },
    "language_info": {
      "name": "python"
    }
  },
  "cells": [
    {
      "cell_type": "code",
      "source": [
        "!pip install Sastrawi"
      ],
      "metadata": {
        "colab": {
          "base_uri": "https://localhost:8080/"
        },
        "id": "RSmNIaVkisWA",
        "outputId": "638d0d01-6bf0-49b3-aa91-6b5ab533c5e7"
      },
      "execution_count": 1,
      "outputs": [
        {
          "output_type": "stream",
          "name": "stdout",
          "text": [
            "Collecting Sastrawi\n",
            "  Downloading Sastrawi-1.0.1-py2.py3-none-any.whl.metadata (909 bytes)\n",
            "Downloading Sastrawi-1.0.1-py2.py3-none-any.whl (209 kB)\n",
            "\u001b[2K   \u001b[90m━━━━━━━━━━━━━━━━━━━━━━━━━━━━━━━━━━━━━━━━\u001b[0m \u001b[32m209.7/209.7 kB\u001b[0m \u001b[31m3.5 MB/s\u001b[0m eta \u001b[36m0:00:00\u001b[0m\n",
            "\u001b[?25hInstalling collected packages: Sastrawi\n",
            "Successfully installed Sastrawi-1.0.1\n"
          ]
        }
      ]
    },
    {
      "cell_type": "code",
      "source": [
        "from Sastrawi.StopWordRemover.StopWordRemoverFactory import StopWordRemoverFactory\n",
        "from collections import Counter\n",
        "import re\n"
      ],
      "metadata": {
        "id": "F0aRDg5vtpk7"
      },
      "execution_count": 2,
      "outputs": []
    },
    {
      "cell_type": "code",
      "execution_count": 3,
      "metadata": {
        "colab": {
          "base_uri": "https://localhost:8080/",
          "height": 73
        },
        "id": "f4x9H2YwsVRZ",
        "outputId": "bf07a221-3be7-44fa-8056-69700f67787e"
      },
      "outputs": [
        {
          "output_type": "display_data",
          "data": {
            "text/plain": [
              "<IPython.core.display.HTML object>"
            ],
            "text/html": [
              "\n",
              "     <input type=\"file\" id=\"files-238b4c17-8bf9-4046-94f3-4895682dce19\" name=\"files[]\" multiple disabled\n",
              "        style=\"border:none\" />\n",
              "     <output id=\"result-238b4c17-8bf9-4046-94f3-4895682dce19\">\n",
              "      Upload widget is only available when the cell has been executed in the\n",
              "      current browser session. Please rerun this cell to enable.\n",
              "      </output>\n",
              "      <script>// Copyright 2017 Google LLC\n",
              "//\n",
              "// Licensed under the Apache License, Version 2.0 (the \"License\");\n",
              "// you may not use this file except in compliance with the License.\n",
              "// You may obtain a copy of the License at\n",
              "//\n",
              "//      http://www.apache.org/licenses/LICENSE-2.0\n",
              "//\n",
              "// Unless required by applicable law or agreed to in writing, software\n",
              "// distributed under the License is distributed on an \"AS IS\" BASIS,\n",
              "// WITHOUT WARRANTIES OR CONDITIONS OF ANY KIND, either express or implied.\n",
              "// See the License for the specific language governing permissions and\n",
              "// limitations under the License.\n",
              "\n",
              "/**\n",
              " * @fileoverview Helpers for google.colab Python module.\n",
              " */\n",
              "(function(scope) {\n",
              "function span(text, styleAttributes = {}) {\n",
              "  const element = document.createElement('span');\n",
              "  element.textContent = text;\n",
              "  for (const key of Object.keys(styleAttributes)) {\n",
              "    element.style[key] = styleAttributes[key];\n",
              "  }\n",
              "  return element;\n",
              "}\n",
              "\n",
              "// Max number of bytes which will be uploaded at a time.\n",
              "const MAX_PAYLOAD_SIZE = 100 * 1024;\n",
              "\n",
              "function _uploadFiles(inputId, outputId) {\n",
              "  const steps = uploadFilesStep(inputId, outputId);\n",
              "  const outputElement = document.getElementById(outputId);\n",
              "  // Cache steps on the outputElement to make it available for the next call\n",
              "  // to uploadFilesContinue from Python.\n",
              "  outputElement.steps = steps;\n",
              "\n",
              "  return _uploadFilesContinue(outputId);\n",
              "}\n",
              "\n",
              "// This is roughly an async generator (not supported in the browser yet),\n",
              "// where there are multiple asynchronous steps and the Python side is going\n",
              "// to poll for completion of each step.\n",
              "// This uses a Promise to block the python side on completion of each step,\n",
              "// then passes the result of the previous step as the input to the next step.\n",
              "function _uploadFilesContinue(outputId) {\n",
              "  const outputElement = document.getElementById(outputId);\n",
              "  const steps = outputElement.steps;\n",
              "\n",
              "  const next = steps.next(outputElement.lastPromiseValue);\n",
              "  return Promise.resolve(next.value.promise).then((value) => {\n",
              "    // Cache the last promise value to make it available to the next\n",
              "    // step of the generator.\n",
              "    outputElement.lastPromiseValue = value;\n",
              "    return next.value.response;\n",
              "  });\n",
              "}\n",
              "\n",
              "/**\n",
              " * Generator function which is called between each async step of the upload\n",
              " * process.\n",
              " * @param {string} inputId Element ID of the input file picker element.\n",
              " * @param {string} outputId Element ID of the output display.\n",
              " * @return {!Iterable<!Object>} Iterable of next steps.\n",
              " */\n",
              "function* uploadFilesStep(inputId, outputId) {\n",
              "  const inputElement = document.getElementById(inputId);\n",
              "  inputElement.disabled = false;\n",
              "\n",
              "  const outputElement = document.getElementById(outputId);\n",
              "  outputElement.innerHTML = '';\n",
              "\n",
              "  const pickedPromise = new Promise((resolve) => {\n",
              "    inputElement.addEventListener('change', (e) => {\n",
              "      resolve(e.target.files);\n",
              "    });\n",
              "  });\n",
              "\n",
              "  const cancel = document.createElement('button');\n",
              "  inputElement.parentElement.appendChild(cancel);\n",
              "  cancel.textContent = 'Cancel upload';\n",
              "  const cancelPromise = new Promise((resolve) => {\n",
              "    cancel.onclick = () => {\n",
              "      resolve(null);\n",
              "    };\n",
              "  });\n",
              "\n",
              "  // Wait for the user to pick the files.\n",
              "  const files = yield {\n",
              "    promise: Promise.race([pickedPromise, cancelPromise]),\n",
              "    response: {\n",
              "      action: 'starting',\n",
              "    }\n",
              "  };\n",
              "\n",
              "  cancel.remove();\n",
              "\n",
              "  // Disable the input element since further picks are not allowed.\n",
              "  inputElement.disabled = true;\n",
              "\n",
              "  if (!files) {\n",
              "    return {\n",
              "      response: {\n",
              "        action: 'complete',\n",
              "      }\n",
              "    };\n",
              "  }\n",
              "\n",
              "  for (const file of files) {\n",
              "    const li = document.createElement('li');\n",
              "    li.append(span(file.name, {fontWeight: 'bold'}));\n",
              "    li.append(span(\n",
              "        `(${file.type || 'n/a'}) - ${file.size} bytes, ` +\n",
              "        `last modified: ${\n",
              "            file.lastModifiedDate ? file.lastModifiedDate.toLocaleDateString() :\n",
              "                                    'n/a'} - `));\n",
              "    const percent = span('0% done');\n",
              "    li.appendChild(percent);\n",
              "\n",
              "    outputElement.appendChild(li);\n",
              "\n",
              "    const fileDataPromise = new Promise((resolve) => {\n",
              "      const reader = new FileReader();\n",
              "      reader.onload = (e) => {\n",
              "        resolve(e.target.result);\n",
              "      };\n",
              "      reader.readAsArrayBuffer(file);\n",
              "    });\n",
              "    // Wait for the data to be ready.\n",
              "    let fileData = yield {\n",
              "      promise: fileDataPromise,\n",
              "      response: {\n",
              "        action: 'continue',\n",
              "      }\n",
              "    };\n",
              "\n",
              "    // Use a chunked sending to avoid message size limits. See b/62115660.\n",
              "    let position = 0;\n",
              "    do {\n",
              "      const length = Math.min(fileData.byteLength - position, MAX_PAYLOAD_SIZE);\n",
              "      const chunk = new Uint8Array(fileData, position, length);\n",
              "      position += length;\n",
              "\n",
              "      const base64 = btoa(String.fromCharCode.apply(null, chunk));\n",
              "      yield {\n",
              "        response: {\n",
              "          action: 'append',\n",
              "          file: file.name,\n",
              "          data: base64,\n",
              "        },\n",
              "      };\n",
              "\n",
              "      let percentDone = fileData.byteLength === 0 ?\n",
              "          100 :\n",
              "          Math.round((position / fileData.byteLength) * 100);\n",
              "      percent.textContent = `${percentDone}% done`;\n",
              "\n",
              "    } while (position < fileData.byteLength);\n",
              "  }\n",
              "\n",
              "  // All done.\n",
              "  yield {\n",
              "    response: {\n",
              "      action: 'complete',\n",
              "    }\n",
              "  };\n",
              "}\n",
              "\n",
              "scope.google = scope.google || {};\n",
              "scope.google.colab = scope.google.colab || {};\n",
              "scope.google.colab._files = {\n",
              "  _uploadFiles,\n",
              "  _uploadFilesContinue,\n",
              "};\n",
              "})(self);\n",
              "</script> "
            ]
          },
          "metadata": {}
        },
        {
          "output_type": "stream",
          "name": "stdout",
          "text": [
            "Saving doc_2.txt to doc_2.txt\n"
          ]
        }
      ],
      "source": [
        "from google.colab import files\n",
        "uploaded = files.upload()"
      ]
    },
    {
      "cell_type": "markdown",
      "source": [],
      "metadata": {
        "id": "WXwlsbtuvHaX"
      }
    },
    {
      "cell_type": "code",
      "source": [
        "# Menggunakan encoding 'cp1252'\n",
        "file_path = 'doc_2.txt'\n",
        "with open(file_path, 'r', encoding='cp1252') as file:\n",
        "    content = file.read()\n",
        "    print(content)"
      ],
      "metadata": {
        "colab": {
          "base_uri": "https://localhost:8080/"
        },
        "id": "Mxzl24SUs_Xr",
        "outputId": "d5c0049d-840e-419c-c8a0-db58b6ac61b0"
      },
      "execution_count": 4,
      "outputs": [
        {
          "output_type": "stream",
          "name": "stdout",
          "text": [
            "Sriwijaya (atau juga disebut Srivijaya; Jawa: Shriwijoyo ???????; Thai: ???????? atau \"Siwichai\") adalah salah satu kemaharajaan bahari yang pernah berdiri di pulau Sumatera dan banyak memberi pengaruh di Nusantara dengan daerah kekuasaan berdasarkan peta membentang dari Kamboja, Thailand Selatan, Semenanjung Malaya, Sumatera, Jawa Barat dan kemungkinan Jawa Tengah. Dalam bahasa Sanskerta, sri berarti \"bercahaya\" atau \"gemilang\", dan wijaya berarti \"kemenangan\" atau \"kejayaan\", maka nama Sriwijaya bermakna \"kemenangan yang gilang-gemilang\".\n",
            "\n",
            "Bukti awal mengenai keberadaan kerajaan ini berasal dari abad ke-7; seorang pendeta Tiongkok dari Dinasti Tang, I Tsing, menulis bahwa ia mengunjungi Sriwijaya tahun 671 dan tinggal selama 6 bulan. Selanjutnya prasasti yang paling tua mengenai Sriwijaya juga berada pada abad ke-7, yaitu prasasti Kedukan Bukit di Palembang, bertarikh 682.\n",
            "\n",
            "Kemunduran pengaruh Sriwijaya terhadap daerah bawahannya mulai menyusut dikarenakan beberapa peperangan di antaranya tahun 1025 serangan Rajendra Chola I dari Koromandel, selanjutnya tahun 1183 kekuasaan Sriwijaya di bawah kendali kerajaan Dharmasraya. Setelah keruntuhannya, kerajaan ini terlupakan dan keberadaannya baru diketahui kembali lewat publikasi tahun 1918 dari sejarawan Perancis George C d s dari  cole fran aise d'Extr me-Orient.\n",
            "\n",
            "Catatan sejarah\n",
            "\n",
            "Belum banyak bukti fisik mengenai Sriwijaya yang dapat ditemukan. Tidak terdapat catatan lebih lanjut mengenai Sriwijaya dalam sejarah Indonesia; masa lalunya yang terlupakan dibentuk kembali oleh sarjana asing. Tidak ada orang Indonesia modern yang mendengar mengenai Sriwijaya sampai tahun 1920-an, ketika sarjana Perancis George C d s mempublikasikan penemuannya dalam surat kabar berbahasa Belanda dan Indonesia. Coed s menyatakan bahwa referensi Tiongkok terhadap \"San-fo-ts'i\", sebelumnya dibaca \"Sribhoja\", dan beberapa prasasti dalam Melayu Kuno merujuk pada kekaisaran yang sama.\n",
            "\n",
            "Historiografi Sriwijaya diperoleh dan disusun dari dua macam sumber utama; catatan sejarah Tiongkok dan sejumlah prasasti batu Asia Tenggara yang telah ditemukan dan diterjemahkan. Catatan perjalanan bhiksu peziarah I Ching sangat penting, terutama dalam menjelaskan kondisi Sriwijaya ketika ia mengunjungi kerajaan itu selama 6 bulan pada tahun 671. Sekumpulan prasasti siddhayatra abad ke-7 yang ditemukan di Palembang dan Pulau Bangka juga merupakan sumber sejarah primer yang penting. Di samping itu, kabar-kabar regional yang beberapa mungkin mendekati kisah legenda, seperti Kisah mengenai Maharaja Javaka dan Raja Khmer juga memberikan sekilas keterangan. Selain itu, beberapa catatan musafir India dan Arab juga menjelaskan secara samar-samar mengenai kekayaan raja Zabag yang menakjubkan.\n",
            "\n",
            "Selain berita-berita diatas tersebut, telah ditemukan oleh Balai Arkeologi Palembang sebuah perahu kuno yang diperkirakan ada sejak masa awal atau proto Kerajaan Sriwijaya di Desa Sungai Pasir, Kecamatan Cengal, Kabupaten Ogan Komering Ilir, Sumatera Selatan. Sayang, kepala perahu kuno itu sudah hilang dan sebagian papan perahu itu digunakan justru buat jembatan. Tercatat ada 17 keping perahu yang terdiri dari bagian lunas, 14 papan perahu yang terdiri dari bagian badan dan bagian buritan untuk menempatkan kemudi. Perahu ini dibuat dengan teknik pasak kayu dan papan ikat yang menggunakan tali ijuk. Cara ini sendiri dikenal dengan sebutan teknik tradisi Asia Tenggara. Selain bangkai perahu, ditemukan juga sejumlah artefak-artefak lain yang berhubungan dengan temuan perahu, seperti tembikar, keramik, dan alat kayu.\n",
            "\n",
            "Sriwijaya menjadi simbol kebesaran Sumatera awal, dan kerajaan besar Nusantara selain Majapahit di Jawa Timur. Pada abad ke-20, kedua kerajaan tersebut menjadi referensi oleh kaum nasionalis untuk menunjukkan bahwa Indonesia merupakan satu kesatuan negara sebelum kolonialisme Belanda.\n",
            "\n",
            "Sriwijaya disebut dengan berbagai macam nama. Orang Tionghoa menyebutnya Shih-li-fo-shih atau San-fo-ts'i atau San Fo Qi. Dalam bahasa Sanskerta dan bahasa Pali, kerajaan Sriwijaya disebut Yavadesh dan Javadeh. Bangsa Arab menyebutnya Zabaj dan Khmer menyebutnya Malayu. Banyaknya nama merupakan alasan lain mengapa Sriwijaya sangat sulit ditemukan. Sementara dari peta Ptolemaeus ditemukan keterangan tentang adanya 3 pulau Sabadeibei yang kemungkinan berkaitan dengan Sriwijaya.\n",
            "\n",
            "Pusat Sriwijaya\n",
            "\n",
            "Menurut Prasasti Kedukan Bukit, yang bertarikh 605 Saka (683 M), Kadatuan Sriwijaya pertama kali didirikan di sekitar Palembang, di tepian Sungai Musi. Prasasti ini menyebutkan bahwa Dapunta Hyang berasal dari Minanga Tamwan. Lokasi yang tepat dari Minanga Tamwan masih diperdebatkan. Teori Palembang sebagai tempat di mana Sriwijaya pertama kali bermula diajukan oleh Coedes dan didukung oleh Pierre-Yves Manguin.\n",
            "\n",
            "Sekitar tahun 1993, Pierre-Yves Manguin melakukan observasi dan berpendapat bahwa pusat Sriwijaya berada di Sungai Musi antara Bukit Seguntang dan Sabokingking (terletak di provinsi Sumatera Selatan sekarang), tepatnya di sekitar situs Karanganyar yang kini dijadikan Taman Purbakala Kerajaan Sriwijaya. Pendapat ini didasarkan dari foto udara tahun 1984 yang menunjukkan bahwa situs Karanganyar menampilkan bentuk bangunan air, yaitu jaringan kanal, parit, kolam serta pulau buatan yang disusun rapi yang dipastikan situs ini adalah buatan manusia. Bangunan air ini terdiri atas kolam dan dua pulau berbentuk bujur sangkar dan empat persegi panjang, serta jaringan kanal dengan luas areal meliputi 20 hektare. Di kawasan ini ditemukan banyak peninggalan purbakala yang menunjukkan bahwa kawasan ini pernah menjadi pusat permukiman dan pusat aktivitas manusia.\n",
            "\n",
            "Namun sebelumnya Soekmono berpendapat bahwa pusat Sriwijaya terletak pada kawasan sehiliran Batang Hari, antara Muara Sabak sampai ke Muara Tembesi (di provinsi Jambi sekarang), dengan catatan Malayu tidak di kawasan tersebut, jika Malayu pada kawasan tersebut, ia cendrung kepada pendapat Moens, yang sebelumnya juga telah berpendapat bahwa letak dari pusat kerajaan Sriwijaya berada pada kawasan Candi Muara Takus (provinsi Riau sekarang), dengan asumsi petunjuk arah perjalanan dalam catatan I Tsing, serta hal ini dapat juga dikaitkan dengan berita tentang pembangunan candi yang dipersembahkan oleh raja Sriwijaya (Se li chu la wu ni fu ma tian hwa atau Sri Cudamaniwarmadewa) tahun 1003 kepada kaisar Cina yang dinamakan cheng tien wan shou (Candi Bungsu, salah satu bagian dari candi yang terletak di Muara Takus). Namun yang pasti pada masa penaklukan oleh Rajendra Chola I, berdasarkan prasasti Tanjore, Sriwijaya telah beribukota di Kadaram (Kedah sekarang).\n",
            "\n",
            "Akan tetapi, pada tahun 2013, penelitian arkeologi yang digelar oleh Universitas Indonesia menemukan beberapa situs keagamaan dan tempat tinggal di Muaro Jambi. Hal ini menunjukkan bahwa pusat awal Sriwijaya mungkin terletak di Kabupaten Muaro Jambi, Jambi pada tepian sungai Batang Hari, dan bukanlah di Sungai Musi seperti anggapan sebelumnya. Situs arkeologi mencakup delapan candi yang sudah digali, di kawasan seluas sekitar 12 kilometer persegi, membentang 7,5 kilometer di sepanjang Sungai Batang Hari, serta 80 menapo atau gundukan reruntuhan candi yang belum dipugar. Situs Muaro Jambi bercorak Buddha Mahayana-Wajrayana. Hal ini menunjukkan bahwa situs tersebut adalah pusat pembelajaran Buddhis, yang dikaitkan dengan tokoh cendekiawan Buddhis terkenal Suvar?advipi Dharmakirti dari abad ke-10. Catatan sejarah dari Tiongkok juga menyebutkan bahwa Sriwijaya menampung ribuan biksu.\n",
            "\n",
            "Teori lain mengajukan pendapat bahwa Dapunta Hyang berasal dari pantai timur Semenanjung Malaya, bahwa Chaiya di Surat Thani, Thailand Selatan adalah pusat kerajaan Sriwijaya. Ada pula pendapat yang menyatakan bahwa nama kota Chaiya berasal dari kata \"Cahaya\" dalam bahasa Melayu. Ada pula yang percaya bahwa nama Chaiya berasal dari Sri Wijaya, dan kota ini adalah pusat Sriwijaya. Teori ini kebanyakan didukung oleh sejarahwan Thailand, meskipun secara umum teori ini dianggap kurang kuat.\n",
            "Sejarah\n",
            "\n",
            "Pembentukan dan pertumbuhan\n",
            "\n",
            "Kerajaan ini menjadi pusat perdagangan dan merupakan negara bahari, namun kerajaan ini tidak memperluas kekuasaannya di luar wilayah kepulauan Asia Tenggara, dengan pengecualian berkontribusi untuk populasi Madagaskar sejauh 3.300 mil di barat. Beberapa ahli masih memperdebatkan kawasan yang menjadi pusat pemerintahan Sriwijaya, selain itu kemungkinan kerajaan ini biasa memindahkan pusat pemerintahannya, namun kawasan yang menjadi ibukota tetap diperintah secara langsung oleh penguasa, sedangkan daerah pendukungnya diperintah oleh datu setempat.\n",
            "\n",
            "Perjalanan Siddhayatra\n",
            "\n",
            "Kemaharajaan Sriwijaya telah ada sejak 671 sesuai dengan catatan I Tsing. Dari prasasti Kedukan Bukit pada tahun 682 di diketahui imperium ini di bawah kepemimpinan Dapunta Hyang. Bahwa beliau berangkat dalam perjalanan suci siddhayatra untuk \"mengalap berkah\", dan memimpin 20.000 tentara dan 312 orang di kapal dengan 1.312 prajurit berjalan kaki dari Minanga Tamwan menuju Jambi dan Palembang. Diketahui, Prasasti Kedukan Bukit adalah prasasti tertua yang ditulis dalam bahasa Melayu. Para ahli berpendapat bahwa prasasti ini mengadaptasi ortografi India untuk menulis prasasti ini.\n",
            "Pada abad ke-7 ini, orang Tionghoa mencatat bahwa terdapat dua kerajaan yaitu Malayu dan Kedah menjadi bagian kemaharajaan Sriwijaya.\n",
            "\n",
            "Penaklukan kawasan\n",
            "\n",
            "Ekspansi kerajaan ini ke Jawa dan Semenanjung Malaya, menjadikan Sriwijaya mengendalikan simpul jalur perdagangan utama di Asia Tenggara. Berdasarkan observasi, ditemukan reruntuhan candi-candi Sriwijaya di Thailand dan Kamboja. Pada abad ke-7, pelabuhan Champa di sebelah timur Indochina mulai mengalihkan banyak pedagang dari Sriwijaya. Untuk mencegah hal tersebut, Maharaja Dharmasetu melancarkan beberapa serangan ke kota-kota pantai di Indochina. Kota Indrapura di tepi sungai Mekong, di awal abad ke-8 berada di bawah kendali Sriwijaya. Sriwijaya meneruskan dominasinya atas Kamboja, sampai raja Khmer Jayawarman II, pendiri kemaharajaan Khmer, memutuskan hubungan dengan Sriwijaya pada abad yang sama. Di akhir abad ke-8 beberapa kerajaan di Jawa, antara lain Tarumanegara dan Holing berada di bawah kekuasaan Sriwijaya. Menurut catatan, pada masa ini pula wangsa Sailendra bermigrasi ke Jawa Tengah dan berkuasa di sana. Pada abad ini pula, Langkasuka di semenanjung Melayu menjadi bagian kerajaan. Pada masa berikutnya, Pan Pan dan Trambralinga, yang terletak di sebelah utara Langkasuka, juga berada di bawah pengaruh Sriwijaya.\n",
            "\n",
            "Setelah Dharmasetu, Samaratungga menjadi penerus kerajaan. Ia berkuasa pada periode 792 sampai 835. Tidak seperti Dharmasetu yang ekspansionis, Samaratungga tidak melakukan ekspansi militer, tetapi lebih memilih untuk memperkuat penguasaan Sriwijaya di Jawa. Selama masa kepemimpinannya, ia membangun candi Borobudur di Jawa Tengah yang selesai pada tahun 825.\n",
            "\n",
            "Berdasarkan prasasti Kota Kapur yang berangka tahun 686 ditemukan di pulau Bangka, kemaharajaan ini telah menguasai bagian selatan Sumatera, pulau Bangka dan Belitung, hingga Lampung. Prasasti ini juga menyebutkan bahwa Sri Jayanasa telah melancarkan ekspedisi militer untuk menghukum Bhumi Jawa yang tidak berbakti kepada Sriwijaya, peristiwa ini bersamaan dengan runtuhnya Tarumanagara di Jawa Barat dan Holing (Kalingga) di Jawa Tengah yang kemungkinan besar akibat serangan Sriwijaya. Kemungkinan yang dimaksud dengan Bhumi Jawa adalah Tarumanegara. Sriwijaya tumbuh dan berhasil mengendalikan jalur perdagangan maritim di Selat Malaka, Selat Sunda, Laut China Selatan, Laut Jawa, dan Selat Karimata.\n",
            "\n",
            "Masa keemasan\n",
            "\n",
            "Arca emas Avalokite vara bergaya Malayu-Sriwijaya, ditemukan di Rantaukapastuo, Muarabulian, Jambi, Indonesia.\n",
            "Berdasarkan sumber catatan sejarah dari Arab, Sriwijaya disebut dengan nama Sribuza. Pada tahun 955 M, Al Masudi, seorang musafir (pengelana) sekaligus sejarawan Arab klasik menulis catatan tentang Sriwijaya. Dalam catatan itu, digambarkan Sriwijaya adalah sebuah kerajaan besar yang kaya raya, dengan tentara yang sangat banyak. Disebutkan kapal yang tercepat dalam waktu dua tahun pun tidak cukup untuk mengelilingi seluruh pulau wilayahnya. Hasil bumi Sriwijaya adalah kapur barus, kayu gaharu, cengkeh, kayu cendana, pala, kapulaga, gambir dan beberapa hasil bumi lainya.\n",
            "Catatan lain menuliskan bahwa Sriwijaya maju dalam bidang agraris. Ini disimpulkan dari seorang ahli dari Bangsa Persia yang bernama Abu Zaid Hasan yang mendapat keterangan dari Sujaimana, seorang pedagang Arab. Abu Zaid menulis bahwasanya Kerajaan Zabaj (Sriwijaya -sebutan Sriwijaya oleh bangsa Arab pada masa itu-) memiliki tanah yang subur dan kekuasaaan yang luas hingga ke seberang lautan.\n",
            "\n"
          ]
        }
      ]
    },
    {
      "cell_type": "code",
      "source": [
        "content_clean = re.sub(r'[^\\w\\s]', '', content.lower())\n",
        "\n",
        "words = content_clean.split()\n",
        "\n",
        "factory = StopWordRemoverFactory()\n",
        "stopwords = set(factory.get_stop_words())\n",
        "\n",
        "filtered_words = [word for word in words if word not in stopwords]\n",
        "word_freq = Counter(filtered_words)\n",
        "most_common_words = word_freq.most_common(30)\n",
        "\n",
        "output_path = 'b_kataunik.txt'\n",
        "with open(output_path, 'w', encoding='utf-8') as output_file:\n",
        "    for word, count in most_common_words:\n",
        "        output_file.write(f\"{word}\\t{count}\\n\")\n",
        "\n",
        "output_path\n",
        "\n",
        "print(most_common_words)"
      ],
      "metadata": {
        "colab": {
          "base_uri": "https://localhost:8080/"
        },
        "id": "uTRclk1HtT3d",
        "outputId": "36247f4c-a3fa-4934-b8cf-dd7d59c9b8f4"
      },
      "execution_count": 6,
      "outputs": [
        {
          "output_type": "stream",
          "name": "stdout",
          "text": [
            "[('sriwijaya', 52), ('kerajaan', 21), ('tahun', 15), ('prasasti', 15), ('jawa', 14), ('catatan', 14), ('pusat', 13), ('abad', 11), ('ditemukan', 11), ('kawasan', 10), ('beberapa', 9), ('menjadi', 9), ('pulau', 8), ('masa', 8), ('perahu', 8), ('mengenai', 7), ('sejarah', 7), ('sungai', 7), ('bagian', 7), ('situs', 7), ('jambi', 7), ('candi', 7), ('sumatera', 6), ('selatan', 6), ('nama', 6), ('i', 6), ('berada', 6), ('palembang', 6), ('indonesia', 6), ('arab', 6)]\n"
          ]
        }
      ]
    }
  ]
}